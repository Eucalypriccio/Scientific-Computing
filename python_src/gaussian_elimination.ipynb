{
 "cells": [
  {
   "cell_type": "markdown",
   "metadata": {},
   "source": [
    "# Gaussian Elimination\n",
    "\n",
    "Basic principle:\n",
    "\n",
    "Firstly, we should transform the coefficient matrix into an upper-triangular matrix (forward substitution); then, start from the last equation to calculate the solution (back substitution). In the mean time, to avoid primitive elements ($a_{kk}^{(k)}$) with 0-value or a very small absolute value, we should adopt seletive primitive method"
   ]
  },
  {
   "cell_type": "code",
   "execution_count": 5,
   "metadata": {},
   "outputs": [
    {
     "name": "stdout",
     "output_type": "stream",
     "text": [
      "Solution vector:[1. 2. 3.]\n"
     ]
    }
   ],
   "source": [
    "import numpy as np\n",
    "\n",
    "def gaussian_elimination(A, b):\n",
    "    n, m = A.shape\n",
    "    x = np.zeros(n)\n",
    "    \n",
    "    if n != m:\n",
    "        raise ValueError(\"A must be a square matrix.\")\n",
    "    \n",
    "    # get augmented matrix\n",
    "    Ab = np.hstack([A, b.reshape(-1, 1)])\n",
    "    \n",
    "    # forward substitution\n",
    "    for i in range(n-1):\n",
    "        # find primitive element\n",
    "        # let the partial maximum index become overall maximum index\n",
    "        max_index = np.argmax(np.abs(Ab[i:n, i])) + i\n",
    "        \n",
    "        if max_index != i:\n",
    "            # exchange rows\n",
    "            Ab[[i, max_index]] = Ab[[max_index, i]]\n",
    "            \n",
    "        for j in range(i+1, n):\n",
    "            factor = Ab[j, i] / Ab[i, i]\n",
    "            Ab[j, i:] = Ab[j, i:] - factor * Ab[i, i:]\n",
    "            \n",
    "    # back substitution\n",
    "    x[n-1] = Ab[n-1, -1] / Ab[n-1, n-1]\n",
    "    for i in range(n-2, -1, -1):\n",
    "        x[i] = (Ab[i, -1] - np.dot(Ab[i, i+1:n], x[i+1:n])) / Ab[i, i]\n",
    "        \n",
    "    print(f\"Solution vector:{x}\")\n",
    "    \n",
    "A = np.array([[2,1,2],\n",
    "              [4,5,2],\n",
    "              [-2,8,-7]], dtype=float)\n",
    "b = np.array([10,20,-7], dtype=float)\n",
    "\n",
    "gaussian_elimination(A, b)"
   ]
  }
 ],
 "metadata": {
  "kernelspec": {
   "display_name": "edward",
   "language": "python",
   "name": "edward"
  },
  "language_info": {
   "codemirror_mode": {
    "name": "ipython",
    "version": 3
   },
   "file_extension": ".py",
   "mimetype": "text/x-python",
   "name": "python",
   "nbconvert_exporter": "python",
   "pygments_lexer": "ipython3",
   "version": "3.12.5"
  }
 },
 "nbformat": 4,
 "nbformat_minor": 2
}
