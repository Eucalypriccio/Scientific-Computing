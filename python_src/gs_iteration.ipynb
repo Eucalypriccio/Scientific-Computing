{
 "cells": [
  {
   "cell_type": "markdown",
   "metadata": {},
   "source": [
    "# Gauss-Seidel Iteration\n",
    "\n",
    "A method that improves upon *Jacobi Iteration*\n",
    "\n",
    "Basic principle:\n",
    "\n",
    "It is obvious that we are computing elements in the solution vector $\\vec{x}$ one by one. So, when calculating a component we can then utilize the $x$ 's that has already been calculated in this round of iterations instead of just using the solution obtained in the previous round of iterations\n",
    "\n",
    "The iterative is given as:\n",
    "\n",
    "$$\n",
    "x_i^{(k+1)} = \\frac{1}{a_{ii}} ( b_i - \\sum_{j=1}^{i-1} a_{ij}\\cdot x_j^{(k+1)} - \\sum_{j=i+1}^n a_{ij}\\cdot x_j^{(k)} )\n",
    "$$"
   ]
  },
  {
   "cell_type": "code",
   "execution_count": 7,
   "metadata": {},
   "outputs": [
    {
     "name": "stdout",
     "output_type": "stream",
     "text": [
      "1 iteration\n",
      "[-0.8     1.12    1.664   3.5984]\n",
      "2 iteration\n",
      "[0.47648    1.773888   2.7697536  3.90201216]\n",
      "3 iteration\n",
      "[0.88913075 1.95608965 2.94944651 3.97946669]\n",
      "4 iteration\n",
      "[0.97700057 1.99059138 2.98941173 3.99570037]\n",
      "5 iteration\n",
      "[0.99514069 1.99802528 2.99777327 3.99909392]\n",
      "6 iteration\n",
      "[0.99897849 1.99958457 2.9995314  3.99980945]\n",
      "7 iteration\n",
      "[0.99978508 1.99991259 2.99990142 3.99995991]\n",
      "8 iteration\n",
      "[0.99995479 1.99998161 2.99997926 3.99999157]\n",
      "9 iteration\n",
      "[0.99999049 1.99999613 2.99999564 3.99999823]\n"
     ]
    }
   ],
   "source": [
    "import numpy as np\n",
    "\n",
    "def gs_iteration(A, b, x_0, epsilon):\n",
    "    k = 1\n",
    "    n = len(b)\n",
    "    x_pre = x_0\n",
    "    x_cur = np.zeros(n)\n",
    "    \n",
    "    while True:\n",
    "        for i in range(n):\n",
    "            if i == 0:\n",
    "                x_cur[i] = (b[i] - np.sum(A[i, :] * x_pre[:]) + A[i, i] * x_pre[i]) / A[i, i]\n",
    "            else:\n",
    "                x_cur[i] = (b[i] - np.sum(A[i, :i] * x_cur[:i]) - np.sum(A[i, i+1:] * x_pre[i+1:])) / A[i, i]\n",
    "        \n",
    "        err = np.linalg.norm(x_cur - x_pre)\n",
    "        x_pre = x_cur.copy()\n",
    "        print(f\"{k} iteration\")\n",
    "        k = k + 1\n",
    "        print(x_cur)\n",
    "        \n",
    "        if err < epsilon:\n",
    "            break\n",
    "        \n",
    "A = np.array([[5,-1,-1,-1],\n",
    "              [-1,10,-1,-1],\n",
    "              [-1,-1,5,-1],\n",
    "              [-1,-1,-1,10],])\n",
    "b = np.array([-4,12,8,34])\n",
    "x_0 = np.zeros(4)\n",
    "\n",
    "gs_iteration(A, b, x_0, 1e-4)\n",
    "        "
   ]
  }
 ],
 "metadata": {
  "kernelspec": {
   "display_name": "edward",
   "language": "python",
   "name": "edward"
  },
  "language_info": {
   "codemirror_mode": {
    "name": "ipython",
    "version": 3
   },
   "file_extension": ".py",
   "mimetype": "text/x-python",
   "name": "python",
   "nbconvert_exporter": "python",
   "pygments_lexer": "ipython3",
   "version": "3.12.5"
  }
 },
 "nbformat": 4,
 "nbformat_minor": 2
}
