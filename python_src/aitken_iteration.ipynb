{
 "cells": [
  {
   "cell_type": "markdown",
   "metadata": {},
   "source": [
    "# Aitken Iteration\n",
    "\n",
    "improvement of **Aitken Iteration** compared to **Picard Iteration**: prediction calibration\n",
    "\n",
    "given the iterative: $x_{k+1} = \\phi{(x_k)}$\n",
    "\n",
    "prediction calibration: $x_k \\rightarrow \\overline{x}_k \\rightarrow \\tilde{x}_{k+1} \\rightarrow x_{k+1}$\n",
    "\n",
    "$$\n",
    "\\begin{align*}\n",
    "    \\overline{x}_k &= \\phi{(x_k)} \\\\\n",
    "    \\tilde{x}_{k+1} &= \\phi{(\\overline{x}_k)} \\\\\n",
    "    x_{k+1} &= \\tilde{x}_{k+1} - \\frac{(\\tilde{x}_{k+1} - \\overline{x}_k)^2}{\\tilde{x}_{k+1} - 2 \\cdot \\overline{x}_k + x_k}\\\\ \n",
    "\\end{align*}\n",
    "$$"
   ]
  },
  {
   "cell_type": "code",
   "execution_count": 1,
   "metadata": {},
   "outputs": [
    {
     "name": "stdout",
     "output_type": "stream",
     "text": [
      "1 iteration: 1.325509600356425\n",
      "2 iteration: 1.3247179612456375\n",
      "3 iteration: 1.324717957244746\n"
     ]
    }
   ],
   "source": [
    "def aitken_iteration(iterative, x_0, epsilon):\n",
    "    k = 1\n",
    "    x_cur = x_0\n",
    "    \n",
    "    while True:\n",
    "        x_1 = iterative(x_cur)\n",
    "        x_2 = iterative(x_1)\n",
    "        x_next = x_2 - (x_2 - x_1)**2 / (x_2 - 2 * x_1 + x_cur)\n",
    "        \n",
    "        if abs(x_next - x_cur) < epsilon:\n",
    "            print(f\"{k} iteration: {x_next}\")\n",
    "            break\n",
    "        \n",
    "        x_cur = x_next\n",
    "        print(f\"{k} iteration: {x_cur}\")\n",
    "        k += 1\n",
    "        \n",
    "def iterative(x):\n",
    "    return (x + 1)**(1 / 3)\n",
    "\n",
    "aitken_iteration(iterative, 1, 1e-8)"
   ]
  }
 ],
 "metadata": {
  "kernelspec": {
   "display_name": "edward",
   "language": "python",
   "name": "edward"
  },
  "language_info": {
   "codemirror_mode": {
    "name": "ipython",
    "version": 3
   },
   "file_extension": ".py",
   "mimetype": "text/x-python",
   "name": "python",
   "nbconvert_exporter": "python",
   "pygments_lexer": "ipython3",
   "version": "3.12.5"
  }
 },
 "nbformat": 4,
 "nbformat_minor": 2
}
