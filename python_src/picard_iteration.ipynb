{
 "cells": [
  {
   "cell_type": "markdown",
   "metadata": {},
   "source": [
    "# Picard Iteration\n",
    "\n",
    "Given non-linear equation: $f(x) = 0, x \\in [a, b]$\n",
    "\n",
    "It can be converted to iterative: $x = \\phi(x)$\n",
    "\n",
    "The iterative must satisfy the following conditions:\n",
    "\n",
    "$$\n",
    "\\begin{align}\n",
    "    \\forall \\ x \\in [a, b], \\ a \\leq \\phi(x) \\leq b \\\\\n",
    "    \\exists \\ q < 1, \\forall x \\in  [a, b], \\ |\\phi'(x)| \\leq q < 1\n",
    "\\end{align}\n",
    "$$"
   ]
  },
  {
   "cell_type": "code",
   "execution_count": 1,
   "metadata": {},
   "outputs": [
    {
     "name": "stdout",
     "output_type": "stream",
     "text": [
      "1 iteration: 0.6065306597126334\n",
      "2 iteration: 0.545239211892605\n",
      "3 iteration: 0.5797030948780683\n",
      "4 iteration: 0.5600646279389019\n",
      "5 iteration: 0.5711721489772151\n",
      "6 iteration: 0.5648629469803235\n",
      "7 iteration: 0.5684380475700662\n",
      "8 iteration: 0.5664094527469208\n",
      "9 iteration: 0.5675596342622424\n",
      "10 iteration: 0.5669072129354714\n",
      "11 iteration: 0.5672771959707785\n",
      "12 iteration: 0.5670673518537281\n",
      "13 iteration: 0.5671863600876381\n",
      "14 iteration: 0.5671188642569858\n",
      "15 iteration: 0.5671571437076446\n",
      "16 iteration: 0.5671354336592732\n",
      "17 iteration: 0.5671477463306249\n",
      "18 iteration: 0.5671407632698067\n"
     ]
    }
   ],
   "source": [
    "import numpy as np\n",
    "\n",
    "def picard_iteration(iterative, x_0, epsilon):\n",
    "    k = 1\n",
    "    x_cur = x_0\n",
    "    \n",
    "    while True:\n",
    "        x_next = iterative(x_cur)\n",
    "        \n",
    "        if abs(x_next - x_cur) < epsilon:\n",
    "            print(f\"{k} iteration: {x_next}\")\n",
    "            break\n",
    "        \n",
    "        x_cur = x_next\n",
    "        print(f\"{k} iteration: {x_cur}\")\n",
    "        k += 1\n",
    "        \n",
    "def iterative(x):\n",
    "    return np.exp(-x)\n",
    "\n",
    "picard_iteration(iterative, 0.5, 1e-5)\n"
   ]
  }
 ],
 "metadata": {
  "kernelspec": {
   "display_name": "edward",
   "language": "python",
   "name": "edward"
  },
  "language_info": {
   "codemirror_mode": {
    "name": "ipython",
    "version": 3
   },
   "file_extension": ".py",
   "mimetype": "text/x-python",
   "name": "python",
   "nbconvert_exporter": "python",
   "pygments_lexer": "ipython3",
   "version": "3.12.5"
  }
 },
 "nbformat": 4,
 "nbformat_minor": 2
}
