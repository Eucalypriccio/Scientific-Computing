{
 "cells": [
  {
   "cell_type": "markdown",
   "metadata": {},
   "source": [
    "# Lagrange Interpolation\n",
    "\n",
    "Given $n$ pairs of $(x_i, y_i)$, our purpose is to find a polynomial:\n",
    "\n",
    "$$\n",
    "P_n(x) = a_0 + a_1x + a_2 x^2 + ... + a_n x^n\n",
    "$$\n",
    "\n",
    "that satisfies:\n",
    "\n",
    "$$\n",
    "P_n(x_i) = y_i, \\ i = 0,1,2,...,n\n",
    "$$\n",
    "\n",
    "However, in **Lagrange Interpolation**, we don't directly solve the linear system to obtain \n",
    "coefficents $a_0, a_1, ..., a_n$. Instead, we try to find **basis polynomial** $l_i(x)$ that meets the condition below:\n",
    "\n",
    "$$\n",
    "\\begin{array}{ccc}\n",
    "    \\text{label} & \\text{x} & \\text{y} \\\\\n",
    "    \\hline\n",
    "    0 & x_0 & 0 \\\\\n",
    "    \\hline\n",
    "    1 & x_1 & 0 \\\\\n",
    "    \\hline\n",
    "    2 & x_2 & 0 \\\\\n",
    "    \\hline\n",
    "    ... & ... & ... \\\\\n",
    "    \\hline\n",
    "    i & x_i & 1 \\\\\n",
    "    \\hline\n",
    "    ... & ... & ... \\\\\n",
    "    \\hline\n",
    "    n & x_n & 0 \\\\\n",
    "    \\hline\n",
    "\\end{array}\n",
    "$$\n",
    "The work is already done by *Lagrange* in 18th century. The basis polynomial is given by:\n",
    "\n",
    "$$\n",
    "\\begin{align*}\n",
    "l_i(x) &= \\frac{(x-x_0)(x-x_1)...(x-x_{i-1})(x-x_{i+1})...(x-x_n)}{(x_i-x_0)(x_i-x_1)...(x_i-x_{i-1})(x_i-x_{i+1})...(x_i-x_n)} \\\\\n",
    "&= \\prod_{j=0, j \\neq i}^n \\frac{x-x_j}{x_i-x_j}\n",
    "\\end{align*}\n",
    "$$\n",
    "\n",
    "And the **Lagrange Interpolant** is given by:\n",
    "\n",
    "$$\n",
    "L_n(x) = \\sum_{i=0}^n y_i\\cdot l_i(x)\n",
    "$$"
   ]
  },
  {
   "cell_type": "code",
   "execution_count": 6,
   "metadata": {},
   "outputs": [
    {
     "name": "stdout",
     "output_type": "stream",
     "text": [
      "Estimated y is: [0.38807748 1.07915851 1.52687738]\n",
      "Error is: [0.0008488  0.00033386 0.00030013]\n"
     ]
    }
   ],
   "source": [
    "import numpy as np\n",
    "\n",
    "def lagrange_interpolation(func, X, x_interp):\n",
    "    n = len(X)\n",
    "    Y = np.zeros(n)\n",
    "    y = np.zeros(len(x_interp))\n",
    "    \n",
    "    for i in range(n):\n",
    "        Y[i] = func(X[i])\n",
    "        \n",
    "    for k in range(len(x_interp)):\n",
    "        x_k = x_interp[k]\n",
    "        y_k = 0\n",
    "        \n",
    "        for i in range(n):\n",
    "            L_i = 1\n",
    "            \n",
    "            for j in range(n):\n",
    "                if i != j:\n",
    "                    L_i = L_i * ((x_k - X[j]) / (X[i] - X[j]))\n",
    "                    \n",
    "            y_k = y_k + Y[i] * L_i\n",
    "            \n",
    "        y[k] = y_k\n",
    "        \n",
    "    err = np.zeros(len(x_interp))\n",
    "    y_acc = np.zeros(len(x_interp))\n",
    "    for i in range(len(x_interp)):\n",
    "        y_acc[i] = func(x_interp[i])\n",
    "        err[i] = abs(y_acc[i] - y[i])\n",
    "        \n",
    "    print(f\"Estimated y is: {y}\")\n",
    "    print(f\"Error is: {err}\")\n",
    "    \n",
    "def func(x):\n",
    "    return x * (1 + np.cos(x))\n",
    "\n",
    "X = np.array([0, np.pi / 8, np.pi / 4, np.pi*3 / 8, np.pi / 2])\n",
    "x_interp = np.array([np.pi / 16, 3*np.pi / 16, 5*np.pi / 16])\n",
    "lagrange_interpolation(func, X, x_interp)"
   ]
  }
 ],
 "metadata": {
  "kernelspec": {
   "display_name": "edward",
   "language": "python",
   "name": "edward"
  },
  "language_info": {
   "codemirror_mode": {
    "name": "ipython",
    "version": 3
   },
   "file_extension": ".py",
   "mimetype": "text/x-python",
   "name": "python",
   "nbconvert_exporter": "python",
   "pygments_lexer": "ipython3",
   "version": "3.12.5"
  }
 },
 "nbformat": 4,
 "nbformat_minor": 2
}
