{
 "cells": [
  {
   "cell_type": "markdown",
   "metadata": {
    "vscode": {
     "languageId": "plaintext"
    }
   },
   "source": [
    "# Trapezodial Rule Formula with Variable Stepsize\n",
    "\n",
    "*Compound Trapzodial Rule* has successfully improved the algebraic accuracy of the original trapezodial rule. But it is still very difficult to further improve the algebraic accuray with constant stepsize. This is where we introduce *Trapezodial Rule Formula with Variable Stepsize*, which can automatically change the stepsize and accelerate the calculating.\n",
    "\n",
    "Let's start from the *Compound Trapezodial Rule*. When the interval $[a,b]$ is equally divided $k$ times, *CTR* is given by:\n",
    "\n",
    "$$\n",
    "\\begin{align*}\n",
    "T_k &= \\frac{b-a}{2^{k+1}} [f(a) + f(b) + 2\\cdot \\sum_{j=1}^{2^k - 1} f(a + j\\frac{b-a}{2^k})] \\\\\n",
    "&= \\frac{b-a}{2^{k+1}} [f(a) + f(b)] + \\frac{b-a}{2^k} \\cdot \\sum_{j=1}^{2^k - 1} f(a + j\\frac{b-a}{2^k})\n",
    "\\end{align*}\n",
    "$$\n",
    "\n",
    "Further, we can get $T_{k-1}$:\n",
    "\n",
    "$$\n",
    "T_{k-1} = \\frac{b-a}{2^{k}} [f(a) + f(b) + 2\\cdot \\sum_{j=1}^{2^{k-1} - 1} f(a + j\\frac{b-a}{2^{k-1}})]\n",
    "$$\n",
    "\n",
    "In order to get recursive relationship between $T_k$ and $T_{k-1}$, multiply $T_{k-1}$ by $\\frac{1}{2}$:\n",
    "\n",
    "$$\n",
    "\\frac{1}{2} T_{k-1} = \\frac{b-a}{2^{k+1}} [f(a) + f(b)] + \\frac{b-a}{2^{k}}\\cdot \\sum_{j=1}^{2^{k-1} - 1} f(a + j\\frac{b-a}{2^{k-1}})\n",
    "$$\n",
    "\n",
    "By comparing the summing part of $T_k$ and $\\frac{1}{2}T_{k-1}$:\n",
    "\n",
    "$$\n",
    "T_k \\rightarrow \\sum_{j=1}^{2^k-1} f(a+j\\frac{b-a}{2^k}) \\rightarrow \\frac{1}{2^k}, \\frac{2}{2^k}, \\frac{3}{2^k}, \\frac{4}{2^k}, \\frac{5}{2^k}, ... ,\\frac{2^k-2}{2^k}, \\frac{2^k-1}{2^k} \\\\\n",
    "\\frac{1}{2} T_{k-1} \\rightarrow \\sum_{j=1}^{2^{k-1}-1} f(a+j\\frac{b-a}{2^{k-1}}) \\rightarrow \\frac{1}{2^{k-1}}, \\frac{2}{2^{k-1}}, ... ,\\frac{2^{k-1}-1}{2^{k-1}}  \n",
    "$$\n",
    "\n",
    "We can get the recursive expression:\n",
    "\n",
    "$$\n",
    "T_k = \\frac{1}{2}T_{k-1} + \\frac{b-a}{2^k} \\sum_{j=1}^{2^{k-1}}f[a+(2j-1)\\frac{b-a}{2^k}]\n",
    "$$\n",
    "\n",
    "Or:\n",
    "\n",
    "$$\n",
    "T_k = \\frac{1}{2} (T_{k-1} + \\frac{b-a}{2^{k-1}} \\sum_{j=1}^{2^{k-1}} f[a+(j-\\frac{1}{2})\\frac{b-a}{2^{k-1}}])\n",
    "$$"
   ]
  },
  {
   "cell_type": "code",
   "execution_count": 4,
   "metadata": {},
   "outputs": [
    {
     "name": "stdout",
     "output_type": "stream",
     "text": [
      "1 iteration, h = 1.5707963267948966\n",
      "Estimated value is: 2.681517061334488\n",
      "2 iteration, h = 0.7853981633974483\n",
      "Estimated value is: 2.5499581068233894\n",
      "3 iteration, h = 0.39269908169872414\n",
      "Estimated value is: 2.5462578139771876\n",
      "4 iteration, h = 0.19634954084936207\n",
      "Estimated value is: 2.546254733501604\n",
      "5 iteration, h = 0.09817477042468103\n",
      "Estimated value is: 2.546254733499365\n",
      "6 iteration, h = 0.04908738521234052\n",
      "Estimated value is: 2.5462547334993655\n"
     ]
    }
   ],
   "source": [
    "import numpy as np\n",
    "\n",
    "def vstrapezoid(func, a, b, epsilon):\n",
    "    h_pre = b - a\n",
    "    t_pre = h_pre / 2 * (func(a) + func(b))\n",
    "    h_cur = (b - a) / 2\n",
    "    t_cur = (t_pre + h_pre * func((a+b) / 2)) / 2\n",
    "    k = 0\n",
    "    print(f\"{k+1} iteration, h = {h_cur}\")\n",
    "    print(f\"Estimated value is: {t_cur}\")\n",
    "    \n",
    "    while abs(t_cur - t_pre) >= epsilon:\n",
    "        t_pre = t_cur\n",
    "        k += 1\n",
    "        n = 2**k\n",
    "        H = 0\n",
    "        h_pre = h_cur\n",
    "        for j in range(1,n+1):\n",
    "            H = H + func(a + (j - 0.5) * h_pre)\n",
    "            \n",
    "        h_cur = (b-a) / (2**(k+1))\n",
    "        t_cur = (t_pre + h_pre * H) / 2\n",
    "        print(f\"{k+1} iteration, h = {h_cur}\")\n",
    "        print(f\"Estimated value is: {t_cur}\")\n",
    "        \n",
    "def func(x):\n",
    "    return np.sqrt(2) / ((1 + pow(np.sin(x), 2)) * np.sqrt(2 - pow(np.sin(x), 2)))\n",
    "\n",
    "vstrapezoid(func, 0, np.pi, 1e-12)"
   ]
  }
 ],
 "metadata": {
  "kernelspec": {
   "display_name": "edward",
   "language": "python",
   "name": "edward"
  },
  "language_info": {
   "codemirror_mode": {
    "name": "ipython",
    "version": 3
   },
   "file_extension": ".py",
   "mimetype": "text/x-python",
   "name": "python",
   "nbconvert_exporter": "python",
   "pygments_lexer": "ipython3",
   "version": "3.12.5"
  }
 },
 "nbformat": 4,
 "nbformat_minor": 2
}
