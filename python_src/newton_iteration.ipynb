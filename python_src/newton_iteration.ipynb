{
 "cells": [
  {
   "cell_type": "markdown",
   "metadata": {},
   "source": [
    "# Newton Iteration\n",
    "\n",
    "Given non-linear equation: $f(x) = 0, x \\in [a,b]$\n",
    "\n",
    "Choose an appropriate initial point $x_0$ in $[a,b]$, make an tangent line to $f(x)$ through $(x_0, f(x_0))$\n",
    "\n",
    "$$\n",
    "l_1: \\ y = f(x_0) + f'(x_0)(x - x_0) \n",
    "$$\n",
    "\n",
    "It interesects the x-axis at:\n",
    "\n",
    "$$\n",
    "x_1 = x_0 - \\frac{f(x_0)}{f'(x_0)}\n",
    "$$\n",
    "\n",
    "Similarily, make an tangent line to $f(x)$ through $(x_1, f(x_1))$\n",
    "\n",
    "$$\n",
    "l_2: \\ y = f(x_1) + f'(x_1)(x - x_1)\n",
    "$$\n",
    "\n",
    "Step by step, we can get the iterative:\n",
    "\n",
    "$$\n",
    "x_k = x_{k-1} - \\frac{f(x_{k-1})}{f'(x_{k-1})}, \\ k = 1, 2, 3, ... \n",
    "$$\n",
    "\n",
    "For the **Newton Iteration** to converge, the following conditions must be met:\n",
    "\n",
    "set $f(x) \\in C^2[a, b]$\n",
    "\n",
    "$$\n",
    "\n",
    "    f(a)f(b) < 0 \\\\\n",
    "    in [a, b], \\ f''(x) \\ is \\ invariant, \\ f'(x) \\neq 0 \\\\\n",
    "    x_0 \\in [a, b], \\ f(x_0)f''(x_0) > 0\n",
    "\n",
    "$$"
   ]
  },
  {
   "cell_type": "code",
   "execution_count": 3,
   "metadata": {},
   "outputs": [
    {
     "name": "stdout",
     "output_type": "stream",
     "text": [
      "1 iteration\n",
      "1.5\n",
      "1 iteration\n",
      "1.3478260869565217\n",
      "2 iteration\n",
      "1.325200398950907\n",
      "3 iteration\n",
      "1.3247181739990537\n",
      "4 iteration\n",
      "1.3247179572447898\n",
      "5 iteration\n",
      "1.324717957244746\n"
     ]
    }
   ],
   "source": [
    "import sympy as sp\n",
    "\n",
    "def newton_iteration(func, derivative_func, x_0, tolerance):\n",
    "    k = 1\n",
    "    x_cur = x_0\n",
    "    y = func(x_cur)\n",
    "    z = derivative_func(x_cur)\n",
    "    x_next = x_cur - y / z\n",
    "    print(f\"{k} iteration\")\n",
    "    print(x_next)\n",
    "    # x_cur = x_next\n",
    "    \n",
    "    while abs(x_next - x_cur) >= tolerance:\n",
    "        if z == 0:\n",
    "            raise ValueError(\"derivative value can't be 0\")\n",
    "        \n",
    "        y = func(x_next)\n",
    "        z = derivative_func(x_next)\n",
    "        x_cur = x_next\n",
    "        x_next = x_cur - y / z\n",
    "        print(f\"{k} iteration\")\n",
    "        print(f\"{x_next}\")\n",
    "        k += 1\n",
    "\n",
    "# symbol variable\n",
    "x = sp.symbols('x')\n",
    "\n",
    "# func = 2 * sp.sin(x + sp.pi * (1 / 3)) - x\n",
    "func = x**3 - x - 1\n",
    "\n",
    "derivative = sp.diff(func, x)\n",
    "\n",
    "func_lambdified = sp.lambdify(x, func)\n",
    "derivative_func = sp.lambdify(x, derivative)\n",
    "    \n",
    "root = newton_iteration(func_lambdified, derivative_func, 1, 1e-8)"
   ]
  }
 ],
 "metadata": {
  "kernelspec": {
   "display_name": "edward",
   "language": "python",
   "name": "edward"
  },
  "language_info": {
   "codemirror_mode": {
    "name": "ipython",
    "version": 3
   },
   "file_extension": ".py",
   "mimetype": "text/x-python",
   "name": "python",
   "nbconvert_exporter": "python",
   "pygments_lexer": "ipython3",
   "version": "3.12.5"
  }
 },
 "nbformat": 4,
 "nbformat_minor": 2
}
